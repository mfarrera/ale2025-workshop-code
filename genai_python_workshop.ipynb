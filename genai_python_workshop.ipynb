{
 "cells": [
  {
   "cell_type": "markdown",
   "id": "f671b8e3",
   "metadata": {},
   "source": [
    "# Workshop: Using Generative AI in Teaching Python Programming\n",
    "Welcome to this hands-on workshop! In this notebook, you'll explore how Generative AI can assist in understanding, generating, debugging, and building Python code. Each exercise is designed to help you leverage AI as a learning and productivity tool."
   ]
  },
  {
   "cell_type": "markdown",
   "id": "99103ddb",
   "metadata": {},
   "source": [
    "## Exercise 1: Code Understanding with AI\n",
    "Analyze the following Python program. Use an AI assistant to explain what the code does, line by line, and suggest possible improvements or alternative approaches."
   ]
  },
  {
   "cell_type": "code",
   "execution_count": 1,
   "id": "bab8ff7f",
   "metadata": {},
   "outputs": [
    {
     "name": "stdout",
     "output_type": "stream",
     "text": [
      "[1, 4, 9, 16, 25]\n"
     ]
    }
   ],
   "source": [
    "# Provided Python Program\n",
    "numbers = [1, 2, 3, 4, 5]\n",
    "squares = []\n",
    "for n in numbers:\n",
    "    squares.append(n * n)\n",
    "print(squares)"
   ]
  },
  {
   "cell_type": "markdown",
   "id": "ec93d9a8",
   "metadata": {},
   "source": [
    "**Task:**\n",
    "- Ask the AI to explain the code above.\n",
    "- Discuss how the code could be improved (e.g., using list comprehensions)."
   ]
  },
  {
   "cell_type": "markdown",
   "id": "ee040ff7",
   "metadata": {},
   "source": [
    "## Exercise 2: Code Generation with AI\n",
    "Prompt the AI to write a Python program that reverses a string entered by the user. Then, adapt or expand the generated code to add new features (e.g., check for palindromes, handle empty input)."
   ]
  },
  {
   "cell_type": "code",
   "execution_count": 8,
   "id": "9149c322",
   "metadata": {},
   "outputs": [],
   "source": [
    "# Example prompt to AI: \"Write a Python program that reverses a string input by the user.\"\n",
    "# (Paste the AI-generated code below and modify as needed)"
   ]
  },
  {
   "cell_type": "markdown",
   "id": "5f767066",
   "metadata": {},
   "source": [
    "**Task:**\n",
    "- Use the AI to generate the code.\n",
    "- Modify the code to add at least one new feature."
   ]
  },
  {
   "cell_type": "markdown",
   "id": "56f917c3",
   "metadata": {},
   "source": [
    "## Exercise 3: Debugging with AI\n",
    "Below is a Python function with intentional errors. Use the AI to identify and fix the bugs."
   ]
  },
  {
   "cell_type": "code",
   "execution_count": 9,
   "id": "78510b92",
   "metadata": {},
   "outputs": [
    {
     "ename": "IndentationError",
     "evalue": "unexpected indent (3073182052.py, line 2)",
     "output_type": "error",
     "traceback": [
      "  \u001b[36mCell\u001b[39m\u001b[36m \u001b[39m\u001b[32mIn[9]\u001b[39m\u001b[32m, line 2\u001b[39m\n\u001b[31m    \u001b[39m\u001b[31mdef add_numbers(a, b):\u001b[39m\n    ^\n\u001b[31mIndentationError\u001b[39m\u001b[31m:\u001b[39m unexpected indent\n"
     ]
    }
   ],
   "source": [
    "# Buggy code\n",
    " def add_numbers(a, b):\n",
    "    return a + b\n",
    "\n",
    "result = add_numbers(5)\n",
    "print('The sum is', result)"
   ]
  },
  {
   "cell_type": "markdown",
   "id": "9536463b",
   "metadata": {},
   "source": [
    "**Task:**\n",
    "- Ask the AI to find and correct the errors in the code above.\n",
    "- Test the corrected code."
   ]
  },
  {
   "cell_type": "markdown",
   "id": "863e6d14",
   "metadata": {},
   "source": [
    "## Exercise 4: Mini-Project with AI\n",
    "Collaborate with the AI to build a simple application of your choice in Python (i.e. a to-do list app). Start by asking the AI for a basic implementation, then expand it with additional features (e.g., mark tasks as done, save/load tasks to a file)."
   ]
  },
  {
   "cell_type": "code",
   "execution_count": null,
   "id": "2da19ccb",
   "metadata": {},
   "outputs": [],
   "source": [
    "# Example prompt to AI: \"Help me build a simple to-do list app in Python.\"\n",
    "# (Paste the AI-generated code below and expand it with new features)"
   ]
  },
  {
   "cell_type": "markdown",
   "id": "ae3c96ab",
   "metadata": {},
   "source": [
    "**Task:**\n",
    "- Use the AI to generate the initial code for a to-do list app.\n",
    "- Add at least one new feature to the app."
   ]
  },
  {
   "cell_type": "markdown",
   "id": "816f8f07",
   "metadata": {},
   "source": [
    "---\n",
    "\n",
    "Congratulations! You've completed the workshop. Reflect on how AI can support your learning and teaching of Python programming."
   ]
  }
 ],
 "metadata": {
  "kernelspec": {
   "display_name": ".venv",
   "language": "python",
   "name": "python3"
  },
  "language_info": {
   "codemirror_mode": {
    "name": "ipython",
    "version": 3
   },
   "file_extension": ".py",
   "mimetype": "text/x-python",
   "name": "python",
   "nbconvert_exporter": "python",
   "pygments_lexer": "ipython3",
   "version": "3.13.2"
  }
 },
 "nbformat": 4,
 "nbformat_minor": 5
}
